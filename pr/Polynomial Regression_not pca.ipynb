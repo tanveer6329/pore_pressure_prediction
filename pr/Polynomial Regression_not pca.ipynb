{
 "cells": [
  {
   "cell_type": "code",
   "execution_count": 1,
   "metadata": {},
   "outputs": [],
   "source": [
    "import numpy as np\n",
    "import pandas as pd\n",
    "import matplotlib.pyplot as plt\n",
    "import seaborn as sns"
   ]
  },
  {
   "cell_type": "markdown",
   "metadata": {},
   "source": [
    "### Read the csv file and checking the first five observation"
   ]
  },
  {
   "cell_type": "code",
   "execution_count": 2,
   "metadata": {
    "scrolled": true
   },
   "outputs": [
    {
     "data": {
      "text/html": [
       "<div>\n",
       "<style scoped>\n",
       "    .dataframe tbody tr th:only-of-type {\n",
       "        vertical-align: middle;\n",
       "    }\n",
       "\n",
       "    .dataframe tbody tr th {\n",
       "        vertical-align: top;\n",
       "    }\n",
       "\n",
       "    .dataframe thead th {\n",
       "        text-align: right;\n",
       "    }\n",
       "</style>\n",
       "<table border=\"1\" class=\"dataframe\">\n",
       "  <thead>\n",
       "    <tr style=\"text-align: right;\">\n",
       "      <th></th>\n",
       "      <th>Unnamed: 0</th>\n",
       "      <th>DEPTH</th>\n",
       "      <th>DT</th>\n",
       "      <th>GR</th>\n",
       "      <th>NPHI</th>\n",
       "      <th>RD</th>\n",
       "      <th>RHOB</th>\n",
       "      <th>ROP5_RM</th>\n",
       "      <th>RS</th>\n",
       "      <th>RT</th>\n",
       "      <th>BVW</th>\n",
       "      <th>KLOGH</th>\n",
       "      <th>PHIF</th>\n",
       "      <th>SW</th>\n",
       "      <th>VCL</th>\n",
       "      <th>pp_psi</th>\n",
       "    </tr>\n",
       "  </thead>\n",
       "  <tbody>\n",
       "    <tr>\n",
       "      <th>0</th>\n",
       "      <td>0</td>\n",
       "      <td>3127.7052</td>\n",
       "      <td>87.701897</td>\n",
       "      <td>28.952101</td>\n",
       "      <td>0.2170</td>\n",
       "      <td>38.960499</td>\n",
       "      <td>2.2082</td>\n",
       "      <td>6.3016</td>\n",
       "      <td>95.438400</td>\n",
       "      <td>130.219100</td>\n",
       "      <td>0.0195</td>\n",
       "      <td>733.528686</td>\n",
       "      <td>0.2483</td>\n",
       "      <td>0.0785</td>\n",
       "      <td>0.1245</td>\n",
       "      <td>4641.506076</td>\n",
       "    </tr>\n",
       "    <tr>\n",
       "      <th>1</th>\n",
       "      <td>1</td>\n",
       "      <td>3127.8576</td>\n",
       "      <td>87.051201</td>\n",
       "      <td>29.013000</td>\n",
       "      <td>0.2168</td>\n",
       "      <td>40.557701</td>\n",
       "      <td>2.2143</td>\n",
       "      <td>6.3473</td>\n",
       "      <td>103.421096</td>\n",
       "      <td>127.670898</td>\n",
       "      <td>0.0196</td>\n",
       "      <td>695.894897</td>\n",
       "      <td>0.2461</td>\n",
       "      <td>0.0797</td>\n",
       "      <td>0.1251</td>\n",
       "      <td>4641.825160</td>\n",
       "    </tr>\n",
       "    <tr>\n",
       "      <th>2</th>\n",
       "      <td>2</td>\n",
       "      <td>3128.0100</td>\n",
       "      <td>87.711700</td>\n",
       "      <td>29.101200</td>\n",
       "      <td>0.2166</td>\n",
       "      <td>42.197201</td>\n",
       "      <td>2.2200</td>\n",
       "      <td>6.3964</td>\n",
       "      <td>110.710601</td>\n",
       "      <td>125.064598</td>\n",
       "      <td>0.0197</td>\n",
       "      <td>658.749694</td>\n",
       "      <td>0.2441</td>\n",
       "      <td>0.0809</td>\n",
       "      <td>0.1260</td>\n",
       "      <td>4642.428943</td>\n",
       "    </tr>\n",
       "    <tr>\n",
       "      <th>3</th>\n",
       "      <td>3</td>\n",
       "      <td>3128.1624</td>\n",
       "      <td>87.745697</td>\n",
       "      <td>29.576700</td>\n",
       "      <td>0.2178</td>\n",
       "      <td>44.440498</td>\n",
       "      <td>2.2200</td>\n",
       "      <td>6.4939</td>\n",
       "      <td>108.128898</td>\n",
       "      <td>121.629501</td>\n",
       "      <td>0.0200</td>\n",
       "      <td>604.472290</td>\n",
       "      <td>0.2445</td>\n",
       "      <td>0.0818</td>\n",
       "      <td>0.1305</td>\n",
       "      <td>4643.317427</td>\n",
       "    </tr>\n",
       "    <tr>\n",
       "      <th>4</th>\n",
       "      <td>4</td>\n",
       "      <td>3128.3148</td>\n",
       "      <td>88.152100</td>\n",
       "      <td>30.052200</td>\n",
       "      <td>0.2190</td>\n",
       "      <td>46.683899</td>\n",
       "      <td>2.2200</td>\n",
       "      <td>6.5915</td>\n",
       "      <td>105.547302</td>\n",
       "      <td>118.194396</td>\n",
       "      <td>0.0203</td>\n",
       "      <td>554.666870</td>\n",
       "      <td>0.2450</td>\n",
       "      <td>0.0827</td>\n",
       "      <td>0.1351</td>\n",
       "      <td>4644.490611</td>\n",
       "    </tr>\n",
       "  </tbody>\n",
       "</table>\n",
       "</div>"
      ],
      "text/plain": [
       "   Unnamed: 0      DEPTH         DT         GR    NPHI         RD    RHOB  \\\n",
       "0           0  3127.7052  87.701897  28.952101  0.2170  38.960499  2.2082   \n",
       "1           1  3127.8576  87.051201  29.013000  0.2168  40.557701  2.2143   \n",
       "2           2  3128.0100  87.711700  29.101200  0.2166  42.197201  2.2200   \n",
       "3           3  3128.1624  87.745697  29.576700  0.2178  44.440498  2.2200   \n",
       "4           4  3128.3148  88.152100  30.052200  0.2190  46.683899  2.2200   \n",
       "\n",
       "   ROP5_RM          RS          RT     BVW       KLOGH    PHIF      SW  \\\n",
       "0   6.3016   95.438400  130.219100  0.0195  733.528686  0.2483  0.0785   \n",
       "1   6.3473  103.421096  127.670898  0.0196  695.894897  0.2461  0.0797   \n",
       "2   6.3964  110.710601  125.064598  0.0197  658.749694  0.2441  0.0809   \n",
       "3   6.4939  108.128898  121.629501  0.0200  604.472290  0.2445  0.0818   \n",
       "4   6.5915  105.547302  118.194396  0.0203  554.666870  0.2450  0.0827   \n",
       "\n",
       "      VCL       pp_psi  \n",
       "0  0.1245  4641.506076  \n",
       "1  0.1251  4641.825160  \n",
       "2  0.1260  4642.428943  \n",
       "3  0.1305  4643.317427  \n",
       "4  0.1351  4644.490611  "
      ]
     },
     "execution_count": 2,
     "metadata": {},
     "output_type": "execute_result"
    }
   ],
   "source": [
    "df = pd.read_csv('input_main.csv')\n",
    "df.head()"
   ]
  },
  {
   "cell_type": "code",
   "execution_count": 3,
   "metadata": {},
   "outputs": [
    {
     "data": {
      "text/html": [
       "<div>\n",
       "<style scoped>\n",
       "    .dataframe tbody tr th:only-of-type {\n",
       "        vertical-align: middle;\n",
       "    }\n",
       "\n",
       "    .dataframe tbody tr th {\n",
       "        vertical-align: top;\n",
       "    }\n",
       "\n",
       "    .dataframe thead th {\n",
       "        text-align: right;\n",
       "    }\n",
       "</style>\n",
       "<table border=\"1\" class=\"dataframe\">\n",
       "  <thead>\n",
       "    <tr style=\"text-align: right;\">\n",
       "      <th></th>\n",
       "      <th>Unnamed: 0</th>\n",
       "      <th>DEPTH</th>\n",
       "      <th>DT</th>\n",
       "      <th>GR</th>\n",
       "      <th>NPHI</th>\n",
       "      <th>RD</th>\n",
       "      <th>RHOB</th>\n",
       "      <th>ROP5_RM</th>\n",
       "      <th>RS</th>\n",
       "      <th>RT</th>\n",
       "      <th>BVW</th>\n",
       "      <th>KLOGH</th>\n",
       "      <th>PHIF</th>\n",
       "      <th>SW</th>\n",
       "      <th>VCL</th>\n",
       "      <th>pp_psi</th>\n",
       "    </tr>\n",
       "  </thead>\n",
       "  <tbody>\n",
       "    <tr>\n",
       "      <th>count</th>\n",
       "      <td>1811.000000</td>\n",
       "      <td>1811.000000</td>\n",
       "      <td>1811.000000</td>\n",
       "      <td>1811.000000</td>\n",
       "      <td>1811.000000</td>\n",
       "      <td>1811.000000</td>\n",
       "      <td>1811.000000</td>\n",
       "      <td>1811.000000</td>\n",
       "      <td>1811.000000</td>\n",
       "      <td>1811.000000</td>\n",
       "      <td>1811.000000</td>\n",
       "      <td>1811.000000</td>\n",
       "      <td>1811.000000</td>\n",
       "      <td>1811.000000</td>\n",
       "      <td>1811.000000</td>\n",
       "      <td>1811.000000</td>\n",
       "    </tr>\n",
       "    <tr>\n",
       "      <th>mean</th>\n",
       "      <td>905.000000</td>\n",
       "      <td>3265.627200</td>\n",
       "      <td>82.924606</td>\n",
       "      <td>64.187431</td>\n",
       "      <td>0.197347</td>\n",
       "      <td>52.902522</td>\n",
       "      <td>2.354985</td>\n",
       "      <td>17.975494</td>\n",
       "      <td>62.012965</td>\n",
       "      <td>52.664780</td>\n",
       "      <td>0.065822</td>\n",
       "      <td>142.035545</td>\n",
       "      <td>0.177494</td>\n",
       "      <td>0.502311</td>\n",
       "      <td>0.395952</td>\n",
       "      <td>4823.872940</td>\n",
       "    </tr>\n",
       "    <tr>\n",
       "      <th>std</th>\n",
       "      <td>522.934986</td>\n",
       "      <td>79.695292</td>\n",
       "      <td>7.214627</td>\n",
       "      <td>21.683044</td>\n",
       "      <td>0.029836</td>\n",
       "      <td>150.759072</td>\n",
       "      <td>0.132375</td>\n",
       "      <td>8.504518</td>\n",
       "      <td>262.090451</td>\n",
       "      <td>123.373354</td>\n",
       "      <td>0.041805</td>\n",
       "      <td>650.313086</td>\n",
       "      <td>0.070897</td>\n",
       "      <td>0.378339</td>\n",
       "      <td>0.200656</td>\n",
       "      <td>182.598023</td>\n",
       "    </tr>\n",
       "    <tr>\n",
       "      <th>min</th>\n",
       "      <td>0.000000</td>\n",
       "      <td>3127.705200</td>\n",
       "      <td>56.836101</td>\n",
       "      <td>22.446199</td>\n",
       "      <td>0.111200</td>\n",
       "      <td>0.490000</td>\n",
       "      <td>2.150600</td>\n",
       "      <td>3.402200</td>\n",
       "      <td>0.550000</td>\n",
       "      <td>0.631600</td>\n",
       "      <td>0.001200</td>\n",
       "      <td>0.001000</td>\n",
       "      <td>0.001200</td>\n",
       "      <td>0.037500</td>\n",
       "      <td>0.060100</td>\n",
       "      <td>4471.360946</td>\n",
       "    </tr>\n",
       "    <tr>\n",
       "      <th>25%</th>\n",
       "      <td>452.500000</td>\n",
       "      <td>3196.666200</td>\n",
       "      <td>78.467350</td>\n",
       "      <td>49.482050</td>\n",
       "      <td>0.173900</td>\n",
       "      <td>1.328600</td>\n",
       "      <td>2.227950</td>\n",
       "      <td>10.042850</td>\n",
       "      <td>1.405200</td>\n",
       "      <td>1.484700</td>\n",
       "      <td>0.030400</td>\n",
       "      <td>0.045250</td>\n",
       "      <td>0.110650</td>\n",
       "      <td>0.130550</td>\n",
       "      <td>0.232400</td>\n",
       "      <td>4681.541009</td>\n",
       "    </tr>\n",
       "    <tr>\n",
       "      <th>50%</th>\n",
       "      <td>905.000000</td>\n",
       "      <td>3265.627200</td>\n",
       "      <td>83.869400</td>\n",
       "      <td>62.143501</td>\n",
       "      <td>0.197900</td>\n",
       "      <td>3.609600</td>\n",
       "      <td>2.352400</td>\n",
       "      <td>15.025900</td>\n",
       "      <td>4.110700</td>\n",
       "      <td>5.638300</td>\n",
       "      <td>0.058500</td>\n",
       "      <td>1.492700</td>\n",
       "      <td>0.193800</td>\n",
       "      <td>0.363800</td>\n",
       "      <td>0.383800</td>\n",
       "      <td>4717.959232</td>\n",
       "    </tr>\n",
       "    <tr>\n",
       "      <th>75%</th>\n",
       "      <td>1357.500000</td>\n",
       "      <td>3334.588200</td>\n",
       "      <td>87.778801</td>\n",
       "      <td>80.317951</td>\n",
       "      <td>0.220100</td>\n",
       "      <td>35.303099</td>\n",
       "      <td>2.470000</td>\n",
       "      <td>27.437750</td>\n",
       "      <td>38.667101</td>\n",
       "      <td>44.383049</td>\n",
       "      <td>0.095850</td>\n",
       "      <td>24.359000</td>\n",
       "      <td>0.239050</td>\n",
       "      <td>0.960750</td>\n",
       "      <td>0.543950</td>\n",
       "      <td>4993.448717</td>\n",
       "    </tr>\n",
       "    <tr>\n",
       "      <th>max</th>\n",
       "      <td>1810.000000</td>\n",
       "      <td>3403.549200</td>\n",
       "      <td>100.426902</td>\n",
       "      <td>122.869102</td>\n",
       "      <td>0.285300</td>\n",
       "      <td>1319.274040</td>\n",
       "      <td>2.688000</td>\n",
       "      <td>28.574400</td>\n",
       "      <td>4693.473140</td>\n",
       "      <td>749.070617</td>\n",
       "      <td>0.172000</td>\n",
       "      <td>12109.040000</td>\n",
       "      <td>0.282700</td>\n",
       "      <td>1.000000</td>\n",
       "      <td>1.000000</td>\n",
       "      <td>5355.864002</td>\n",
       "    </tr>\n",
       "  </tbody>\n",
       "</table>\n",
       "</div>"
      ],
      "text/plain": [
       "        Unnamed: 0        DEPTH           DT           GR         NPHI  \\\n",
       "count  1811.000000  1811.000000  1811.000000  1811.000000  1811.000000   \n",
       "mean    905.000000  3265.627200    82.924606    64.187431     0.197347   \n",
       "std     522.934986    79.695292     7.214627    21.683044     0.029836   \n",
       "min       0.000000  3127.705200    56.836101    22.446199     0.111200   \n",
       "25%     452.500000  3196.666200    78.467350    49.482050     0.173900   \n",
       "50%     905.000000  3265.627200    83.869400    62.143501     0.197900   \n",
       "75%    1357.500000  3334.588200    87.778801    80.317951     0.220100   \n",
       "max    1810.000000  3403.549200   100.426902   122.869102     0.285300   \n",
       "\n",
       "                RD         RHOB      ROP5_RM           RS           RT  \\\n",
       "count  1811.000000  1811.000000  1811.000000  1811.000000  1811.000000   \n",
       "mean     52.902522     2.354985    17.975494    62.012965    52.664780   \n",
       "std     150.759072     0.132375     8.504518   262.090451   123.373354   \n",
       "min       0.490000     2.150600     3.402200     0.550000     0.631600   \n",
       "25%       1.328600     2.227950    10.042850     1.405200     1.484700   \n",
       "50%       3.609600     2.352400    15.025900     4.110700     5.638300   \n",
       "75%      35.303099     2.470000    27.437750    38.667101    44.383049   \n",
       "max    1319.274040     2.688000    28.574400  4693.473140   749.070617   \n",
       "\n",
       "               BVW         KLOGH         PHIF           SW          VCL  \\\n",
       "count  1811.000000   1811.000000  1811.000000  1811.000000  1811.000000   \n",
       "mean      0.065822    142.035545     0.177494     0.502311     0.395952   \n",
       "std       0.041805    650.313086     0.070897     0.378339     0.200656   \n",
       "min       0.001200      0.001000     0.001200     0.037500     0.060100   \n",
       "25%       0.030400      0.045250     0.110650     0.130550     0.232400   \n",
       "50%       0.058500      1.492700     0.193800     0.363800     0.383800   \n",
       "75%       0.095850     24.359000     0.239050     0.960750     0.543950   \n",
       "max       0.172000  12109.040000     0.282700     1.000000     1.000000   \n",
       "\n",
       "            pp_psi  \n",
       "count  1811.000000  \n",
       "mean   4823.872940  \n",
       "std     182.598023  \n",
       "min    4471.360946  \n",
       "25%    4681.541009  \n",
       "50%    4717.959232  \n",
       "75%    4993.448717  \n",
       "max    5355.864002  "
      ]
     },
     "execution_count": 3,
     "metadata": {},
     "output_type": "execute_result"
    }
   ],
   "source": [
    "df.describe()"
   ]
  },
  {
   "cell_type": "code",
   "execution_count": 4,
   "metadata": {},
   "outputs": [],
   "source": [
    "# selecting features and label\n",
    "X = df.iloc[:, 1:-1]  # features\n",
    "y = df.iloc[:,-1]  #label"
   ]
  },
  {
   "cell_type": "code",
   "execution_count": 5,
   "metadata": {},
   "outputs": [
    {
     "data": {
      "text/plain": [
       "[(1811, 14), (1811,)]"
      ]
     },
     "execution_count": 5,
     "metadata": {},
     "output_type": "execute_result"
    }
   ],
   "source": [
    "[X.shape, y.shape]"
   ]
  },
  {
   "cell_type": "code",
   "execution_count": 6,
   "metadata": {},
   "outputs": [],
   "source": [
    "# spliting into training and testing set for both X and y\n",
    "from sklearn.model_selection import train_test_split\n",
    "X_train, X_test, y_train, y_test = train_test_split(X,y, test_size=0.3, random_state=2 )\n",
    "\n",
    "# Standardization\n",
    "from sklearn.preprocessing import StandardScaler\n",
    "\n",
    "# transforming X_train value to feed to the model\n",
    "scaler = StandardScaler()\n",
    "X_train_scaled = scaler.fit_transform(X_train)\n",
    "\n",
    "# transforming X_test value for predicting for new cases\n",
    "X_test_scaled = scaler.transform(X_test)"
   ]
  },
  {
   "cell_type": "code",
   "execution_count": 7,
   "metadata": {},
   "outputs": [],
   "source": [
    "from sklearn.decomposition import PCA\n",
    "pca = PCA(n_components=10)\n",
    "X_train_pca = pca.fit_transform(X_train_scaled)\n",
    "X_test_pca = pca.transform(X_test_scaled)"
   ]
  },
  {
   "cell_type": "code",
   "execution_count": 8,
   "metadata": {},
   "outputs": [],
   "source": [
    "# function to convert seconds to into hours, minutes and seconds\n",
    "# this function is used to measure the running time of any model\n",
    "def convert(seconds):\n",
    "    seconds = seconds % (24 * 3600)\n",
    "    hour = seconds // 3600\n",
    "    seconds %= 3600\n",
    "    minutes = seconds // 60\n",
    "    seconds %= 60\n",
    "      \n",
    "    return \"%d:%02d:%02d\" % (hour, minutes, seconds)"
   ]
  },
  {
   "cell_type": "markdown",
   "metadata": {},
   "source": [
    "### Loading the linear regression model from sklearn\n",
    "### Fit the model, do the prediction"
   ]
  },
  {
   "cell_type": "code",
   "execution_count": 9,
   "metadata": {},
   "outputs": [],
   "source": [
    "from sklearn.preprocessing import PolynomialFeatures\n",
    "from sklearn.linear_model import LinearRegression\n",
    "from sklearn.pipeline import make_pipeline\n",
    "from sklearn.model_selection import train_test_split\n",
    "from sklearn.metrics import mean_squared_error, r2_score\n",
    "import numpy as np\n"
   ]
  },
  {
   "cell_type": "code",
   "execution_count": 21,
   "metadata": {},
   "outputs": [],
   "source": [
    "md=PolynomialFeatures(2)\n",
    "\n",
    "g=md.fit_transform(X_train_pca)"
   ]
  },
  {
   "cell_type": "code",
   "execution_count": 22,
   "metadata": {},
   "outputs": [
    {
     "data": {
      "text/plain": [
       "(1267, 66)"
      ]
     },
     "execution_count": 22,
     "metadata": {},
     "output_type": "execute_result"
    }
   ],
   "source": [
    "g.shape"
   ]
  },
  {
   "cell_type": "code",
   "execution_count": 23,
   "metadata": {},
   "outputs": [],
   "source": [
    "from sklearn.preprocessing import PolynomialFeatures\n",
    "from sklearn.linear_model import LinearRegression\n",
    "from sklearn.pipeline import make_pipeline\n",
    "from sklearn.model_selection import train_test_split\n",
    "from sklearn.metrics import mean_squared_error, r2_score\n",
    "import numpy as np\n",
    "\n",
    "\n",
    "degree =2\n",
    "model = make_pipeline(PolynomialFeatures(degree), LinearRegression())\n",
    "\n",
    "model.fit(X_train, y_train)\n",
    "\n",
    "pred_1 = model.predict(X_train)\n",
    "pred_2= model.predict(X_test)\n"
   ]
  },
  {
   "cell_type": "code",
   "execution_count": 10,
   "metadata": {},
   "outputs": [],
   "source": [
    "# Assuming you have already defined and fitted your model\n",
    "# Accessing intercept\n",
    "intercept = model.named_steps['linearregression'].intercept_\n",
    "\n",
    "# Accessing coefficients\n",
    "coefficients = model.named_steps['linearregression'].coef_\n"
   ]
  },
  {
   "cell_type": "code",
   "execution_count": 11,
   "metadata": {},
   "outputs": [
    {
     "data": {
      "text/plain": [
       "4780.656858075206"
      ]
     },
     "execution_count": 11,
     "metadata": {},
     "output_type": "execute_result"
    }
   ],
   "source": [
    "intercept"
   ]
  },
  {
   "cell_type": "code",
   "execution_count": 12,
   "metadata": {},
   "outputs": [
    {
     "data": {
      "text/plain": [
       "array([-3.61345031e-13, -3.59731052e+01,  7.23264426e+01,  5.58695639e+01,\n",
       "        8.14536254e+01, -9.10336479e+01, -3.67570879e+01,  6.97068587e+00,\n",
       "       -5.39703216e+01, -7.76224206e+01,  1.34661750e+02,  2.04099581e+00,\n",
       "       -1.88208718e+01,  2.10083381e-01, -2.05546135e+01,  1.09279428e+01,\n",
       "        6.93509761e+00, -2.49992437e-01,  2.32471000e+01,  4.84931664e+00,\n",
       "       -2.87027627e+01, -4.62465412e+00,  2.54959419e+01, -7.97465265e+00,\n",
       "       -2.28704115e+01,  8.38399885e+00,  2.69701677e+00,  1.47057382e+01,\n",
       "       -1.72106269e+01, -9.67146834e+00,  2.14360126e+01,  2.60453635e+01,\n",
       "       -2.08393357e+01,  4.55699812e+00,  8.39722041e+00, -1.36971887e+01,\n",
       "       -2.47340948e+01,  3.18985225e+01,  5.51145107e+00, -5.91499248e+00,\n",
       "       -1.13720215e+01, -1.84753677e+00,  9.49100578e+00, -1.65831679e+01,\n",
       "       -3.28189312e+00, -2.65018770e+01,  4.38656520e+01,  6.03100354e+00,\n",
       "       -2.37677398e+01, -3.64018054e+01, -7.82025269e+00,  1.46561949e+01,\n",
       "       -1.72114228e+01, -4.51377846e+01, -3.80436352e+00,  8.86226574e+01,\n",
       "        5.70207436e+00,  2.38173140e+01, -1.47649252e+01, -3.09060144e+00,\n",
       "        3.65238290e+01, -1.89779429e+01, -5.45638145e+00, -4.37724778e+01,\n",
       "       -4.14319605e+00,  4.45919434e+01])"
      ]
     },
     "execution_count": 12,
     "metadata": {},
     "output_type": "execute_result"
    }
   ],
   "source": [
    "coefficients"
   ]
  },
  {
   "cell_type": "code",
   "execution_count": null,
   "metadata": {},
   "outputs": [],
   "source": []
  },
  {
   "cell_type": "code",
   "execution_count": 13,
   "metadata": {},
   "outputs": [],
   "source": [
    "import os\n",
    "\n",
    "# Create the output/cnn directory if it doesn't exist\n",
    "output_dir = \"./output/mvr/pca_10\"\n",
    "os.makedirs(output_dir, exist_ok=True)"
   ]
  },
  {
   "cell_type": "code",
   "execution_count": 24,
   "metadata": {},
   "outputs": [],
   "source": [
    "# saving training, testing and y data with their predicted data in a excel file with different sheets\n",
    "a = np.stack([y_train, pred_1], axis=1) # training\n",
    "a = pd.DataFrame(a, columns=['y_train', 'y_train_pred'])\n",
    "\n",
    "b = np.stack([y_test, pred_2], axis=1) # testing \n",
    "b = pd.DataFrame(b, columns=['y_test', 'y_test_pred'])\n",
    "\n",
    "#with pd.ExcelWriter(\"./output/mvr/pca_10/predicted_mvr_model.xlsx\") as writer:\n",
    "    # use to_excel function and specify the sheet_name and index\n",
    "    # to store the dataframe in specified sheet\n",
    "    #a.to_excel(writer, sheet_name=\"training\", index=True)\n",
    "    #b.to_excel(writer, sheet_name=\"testing\", index=True)"
   ]
  },
  {
   "cell_type": "markdown",
   "metadata": {},
   "source": [
    "### Evaluation Metrics for testing set"
   ]
  },
  {
   "cell_type": "code",
   "execution_count": 25,
   "metadata": {},
   "outputs": [
    {
     "data": {
      "text/html": [
       "<div>\n",
       "<style scoped>\n",
       "    .dataframe tbody tr th:only-of-type {\n",
       "        vertical-align: middle;\n",
       "    }\n",
       "\n",
       "    .dataframe tbody tr th {\n",
       "        vertical-align: top;\n",
       "    }\n",
       "\n",
       "    .dataframe thead th {\n",
       "        text-align: right;\n",
       "    }\n",
       "</style>\n",
       "<table border=\"1\" class=\"dataframe\">\n",
       "  <thead>\n",
       "    <tr style=\"text-align: right;\">\n",
       "      <th></th>\n",
       "      <th>0</th>\n",
       "      <th>1</th>\n",
       "      <th>2</th>\n",
       "      <th>3</th>\n",
       "      <th>4</th>\n",
       "      <th>5</th>\n",
       "      <th>6</th>\n",
       "      <th>7</th>\n",
       "    </tr>\n",
       "  </thead>\n",
       "  <tbody>\n",
       "    <tr>\n",
       "      <th>performance_metrics</th>\n",
       "      <td>R2</td>\n",
       "      <td>MAE</td>\n",
       "      <td>MSE</td>\n",
       "      <td>RMSE</td>\n",
       "      <td>MAPE</td>\n",
       "      <td>EV</td>\n",
       "      <td>maxE</td>\n",
       "      <td>minE</td>\n",
       "    </tr>\n",
       "    <tr>\n",
       "      <th>training</th>\n",
       "      <td>0.978886</td>\n",
       "      <td>16.258904</td>\n",
       "      <td>700.662434</td>\n",
       "      <td>0.003384</td>\n",
       "      <td>26.470029</td>\n",
       "      <td>0.978886</td>\n",
       "      <td>309.147466</td>\n",
       "      <td>0.092362</td>\n",
       "    </tr>\n",
       "    <tr>\n",
       "      <th>testing</th>\n",
       "      <td>0.970813</td>\n",
       "      <td>18.707531</td>\n",
       "      <td>981.327243</td>\n",
       "      <td>31.326143</td>\n",
       "      <td>0.003893</td>\n",
       "      <td>0.971203</td>\n",
       "      <td>223.701689</td>\n",
       "      <td>0.061381</td>\n",
       "    </tr>\n",
       "  </tbody>\n",
       "</table>\n",
       "</div>"
      ],
      "text/plain": [
       "                            0          1           2          3          4  \\\n",
       "performance_metrics        R2        MAE         MSE       RMSE       MAPE   \n",
       "training             0.978886  16.258904  700.662434   0.003384  26.470029   \n",
       "testing              0.970813  18.707531  981.327243  31.326143   0.003893   \n",
       "\n",
       "                            5           6         7  \n",
       "performance_metrics        EV        maxE      minE  \n",
       "training             0.978886  309.147466  0.092362  \n",
       "testing              0.971203  223.701689  0.061381  "
      ]
     },
     "execution_count": 25,
     "metadata": {},
     "output_type": "execute_result"
    }
   ],
   "source": [
    "from sklearn.metrics import r2_score\n",
    "from sklearn.metrics import mean_absolute_error\n",
    "from sklearn.metrics import mean_squared_error\n",
    "from sklearn.metrics import mean_absolute_percentage_error\n",
    "from sklearn.metrics import explained_variance_score\n",
    "from sklearn.metrics import max_error\n",
    "\n",
    "\n",
    "train_r2 = r2_score(y_train,pred_1) # r2_score for training set\n",
    "train_mae = mean_absolute_error(y_train, pred_1) # mean absolute error for training set\n",
    "train_mse = mean_squared_error(y_train, pred_1) # mean squared error for training set\n",
    "train_rmse = np.sqrt(mean_squared_error(y_train, pred_1)) # mean squared error for training set\n",
    "train_mape = mean_absolute_percentage_error(y_train, pred_1) # mean_absolute_percentage_error for training set\n",
    "train_ev = explained_variance_score(y_train, pred_1) \n",
    "train_maxE = max_error(y_train, pred_1)\n",
    "train_minE = min(abs(y_train - pred_1))\n",
    "\n",
    "test_r2 = r2_score(y_test, pred_2) # r2_score for testing set\n",
    "test_mae = mean_absolute_error(y_test, pred_2) # mean absolute error for testing set\n",
    "test_mse = mean_squared_error(y_test, pred_2) # mean squared error for testing set\n",
    "test_rmse = np.sqrt(mean_squared_error(y_test, pred_2))\n",
    "test_mape = mean_absolute_percentage_error(y_test, pred_2) # mean_absolute_percentage_error for testing set\n",
    "test_ev = explained_variance_score(y_test, pred_2) \n",
    "test_maxE = max_error(y_test, pred_2)\n",
    "test_minE = min(abs(y_test - pred_2))\n",
    "\n",
    "\n",
    "metrics = {\n",
    "'performance_metrics': ['R2', 'MAE', 'MSE','RMSE','MAPE', 'EV', 'maxE', 'minE'],\n",
    "'training': [train_r2, train_mae, train_mse, train_mape,train_rmse, train_ev, train_maxE, train_minE],\n",
    "'testing': [test_r2, test_mae, test_mse,test_rmse, test_mape, test_ev, test_maxE, test_minE]\n",
    "}\n",
    "\n",
    "performance_metrics = pd.DataFrame(metrics)\n",
    "performance = performance_metrics.transpose()\n",
    "#performance.to_csv('./output/mvr/pca_10/performance_mvr.csv')\n",
    "performance"
   ]
  },
  {
   "cell_type": "markdown",
   "metadata": {},
   "source": [
    "### Saving trained model to a file and reading the same file using pickle module"
   ]
  },
  {
   "cell_type": "code",
   "execution_count": 17,
   "metadata": {},
   "outputs": [
    {
     "ename": "NameError",
     "evalue": "name 'regressor' is not defined",
     "output_type": "error",
     "traceback": [
      "\u001b[1;31m---------------------------------------------------------------------------\u001b[0m",
      "\u001b[1;31mNameError\u001b[0m                                 Traceback (most recent call last)",
      "Cell \u001b[1;32mIn [17], line 3\u001b[0m\n\u001b[0;32m      1\u001b[0m \u001b[38;5;66;03m#from sklearn.externals import joblib\u001b[39;00m\n\u001b[0;32m      2\u001b[0m \u001b[38;5;28;01mfrom\u001b[39;00m \u001b[38;5;21;01mjoblib\u001b[39;00m \u001b[38;5;28;01mimport\u001b[39;00m dump, load\n\u001b[1;32m----> 3\u001b[0m dump(\u001b[43mregressor\u001b[49m, \u001b[38;5;124m'\u001b[39m\u001b[38;5;124m./output/mvr/pca_10/trained_linear_regression_model_10.joblib\u001b[39m\u001b[38;5;124m'\u001b[39m) \n\u001b[0;32m      5\u001b[0m \u001b[38;5;66;03m#clf = load('trained_linear_regression_model.joblib')\u001b[39;00m\n",
      "\u001b[1;31mNameError\u001b[0m: name 'regressor' is not defined"
     ]
    }
   ],
   "source": [
    "#from sklearn.externals import joblib\n",
    "from joblib import dump, load\n",
    "dump(regressor, './output/mvr/pca_10/trained_linear_regression_model_10.joblib') \n",
    "\n",
    "#clf = load('trained_linear_regression_model.joblib')"
   ]
  },
  {
   "cell_type": "markdown",
   "metadata": {},
   "source": [
    "### Regression plot for testing set"
   ]
  },
  {
   "cell_type": "code",
   "execution_count": 21,
   "metadata": {},
   "outputs": [
    {
     "data": {
      "image/png": "[encoded data removed]",
      "text/plain": [
       "<Figure size 600x600 with 1 Axes>"
      ]
     },
     "metadata": {},
     "output_type": "display_data"
    }
   ],
   "source": [
    "import matplotlib.pyplot as plt\n",
    "from sklearn.metrics import r2_score\n",
    "\n",
    "# Set the default font family for the entire plot\n",
    "plt.rcParams['font.family'] = 'serif'  # Change 'serif' to the desired font name\n",
    "\n",
    "train_residuals = y_train - pred_1\n",
    "test_residuals = y_test - pred_2\n",
    "\n",
    "fig, ax = plt.subplots(figsize=(6, 6))\n",
    "\n",
    "# Scatter plot for training residuals with outline marker\n",
    "ax.scatter(pred_1, train_residuals, c='tab:blue', label=f'Train Residuals (R^2 = {train_r2:.4f})', marker=\"^\", edgecolors='tab:blue', facecolors='none')\n",
    "\n",
    "# Scatter plot for test residuals with outline marker\n",
    "ax.scatter(pred_2, test_residuals, c='tab:red', label=f'Test Residuals (R^2 = {test_r2:.4f})', marker='o', edgecolors='tab:red', facecolors='none')\n",
    "\n",
    "# Horizontal line at y=0\n",
    "ax.axhline(y=0, color='black', linestyle='--', linewidth=2)\n",
    "\n",
    "# Set larger font sizes for x and y labels\n",
    "ax.set_xlabel('Predicted Values', fontsize=15, labelpad=5)  # Adjust labelpad as needed\n",
    "ax.set_ylabel('Residuals', fontsize=15)\n",
    "\n",
    "ax.set_title('CatBoost(CB)', fontsize=15)\n",
    "\n",
    "ax.grid(True)\n",
    "\n",
    "# Set legend font size\n",
    "ax.legend(fontsize=15)\n",
    "ax.set_title('Polynomial Regression(PR)', fontsize=15)\n",
    "\n",
    "ax.grid(True)\n",
    "\n",
    "# Set legend font size\n",
    "ax.legend(fontsize=15)\n",
    "\n",
    "plt.savefig('./output/mvr/pca_10/residual_plot.png', dpi=300)\n",
    "plt.tight_layout()"
   ]
  },
  {
   "cell_type": "code",
   "execution_count": null,
   "metadata": {},
   "outputs": [],
   "source": []
  }
 ],
 "metadata": {
  "kernelspec": {
   "display_name": "Python 3 (ipykernel)",
   "language": "python",
   "name": "python3"
  },
  "language_info": {
   "codemirror_mode": {
    "name": "ipython",
    "version": 3
   },
   "file_extension": ".py",
   "mimetype": "text/x-python",
   "name": "python",
   "nbconvert_exporter": "python",
   "pygments_lexer": "ipython3",
   "version": "3.11.4"
  },
  "vscode": {
   "interpreter": {
    "hash": "dfba1fbeaf81153adab873487c2c8786fcedc405434a7dba5115050d3edc9202"
   }
  }
 },
 "nbformat": 4,
 "nbformat_minor": 4
}
