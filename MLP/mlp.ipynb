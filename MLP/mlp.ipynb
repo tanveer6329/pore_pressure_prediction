{
  "cells": [
    {
      "cell_type": "code",
      "execution_count": 1,
      "metadata": {
        "id": "Y57nZ21ZsHKR"
      },
      "outputs": [],
      "source": [
        "import pandas as pd"
      ]
    },
    {
      "cell_type": "code",
      "execution_count": 2,
      "metadata": {},
      "outputs": [],
      "source": [
        "df=pd.read_csv('input_main.csv')"
      ]
    },
    {
      "cell_type": "code",
      "execution_count": 3,
      "metadata": {},
      "outputs": [
        {
          "data": {
            "text/html": [
              "<div>\n",
              "<style scoped>\n",
              "    .dataframe tbody tr th:only-of-type {\n",
              "        vertical-align: middle;\n",
              "    }\n",
              "\n",
              "    .dataframe tbody tr th {\n",
              "        vertical-align: top;\n",
              "    }\n",
              "\n",
              "    .dataframe thead th {\n",
              "        text-align: right;\n",
              "    }\n",
              "</style>\n",
              "<table border=\"1\" class=\"dataframe\">\n",
              "  <thead>\n",
              "    <tr style=\"text-align: right;\">\n",
              "      <th></th>\n",
              "      <th>Unnamed: 0</th>\n",
              "      <th>DEPTH</th>\n",
              "      <th>DT</th>\n",
              "      <th>GR</th>\n",
              "      <th>NPHI</th>\n",
              "      <th>RD</th>\n",
              "      <th>RHOB</th>\n",
              "      <th>ROP5_RM</th>\n",
              "      <th>RS</th>\n",
              "      <th>RT</th>\n",
              "      <th>BVW</th>\n",
              "      <th>KLOGH</th>\n",
              "      <th>PHIF</th>\n",
              "      <th>SW</th>\n",
              "      <th>VCL</th>\n",
              "      <th>pp_psi</th>\n",
              "    </tr>\n",
              "  </thead>\n",
              "  <tbody>\n",
              "    <tr>\n",
              "      <th>0</th>\n",
              "      <td>0</td>\n",
              "      <td>3127.7052</td>\n",
              "      <td>87.701897</td>\n",
              "      <td>28.952101</td>\n",
              "      <td>0.2170</td>\n",
              "      <td>38.960499</td>\n",
              "      <td>2.2082</td>\n",
              "      <td>6.3016</td>\n",
              "      <td>95.438400</td>\n",
              "      <td>130.219100</td>\n",
              "      <td>0.0195</td>\n",
              "      <td>733.528686</td>\n",
              "      <td>0.2483</td>\n",
              "      <td>0.0785</td>\n",
              "      <td>0.1245</td>\n",
              "      <td>4641.506076</td>\n",
              "    </tr>\n",
              "    <tr>\n",
              "      <th>1</th>\n",
              "      <td>1</td>\n",
              "      <td>3127.8576</td>\n",
              "      <td>87.051201</td>\n",
              "      <td>29.013000</td>\n",
              "      <td>0.2168</td>\n",
              "      <td>40.557701</td>\n",
              "      <td>2.2143</td>\n",
              "      <td>6.3473</td>\n",
              "      <td>103.421096</td>\n",
              "      <td>127.670898</td>\n",
              "      <td>0.0196</td>\n",
              "      <td>695.894897</td>\n",
              "      <td>0.2461</td>\n",
              "      <td>0.0797</td>\n",
              "      <td>0.1251</td>\n",
              "      <td>4641.825160</td>\n",
              "    </tr>\n",
              "    <tr>\n",
              "      <th>2</th>\n",
              "      <td>2</td>\n",
              "      <td>3128.0100</td>\n",
              "      <td>87.711700</td>\n",
              "      <td>29.101200</td>\n",
              "      <td>0.2166</td>\n",
              "      <td>42.197201</td>\n",
              "      <td>2.2200</td>\n",
              "      <td>6.3964</td>\n",
              "      <td>110.710601</td>\n",
              "      <td>125.064598</td>\n",
              "      <td>0.0197</td>\n",
              "      <td>658.749694</td>\n",
              "      <td>0.2441</td>\n",
              "      <td>0.0809</td>\n",
              "      <td>0.1260</td>\n",
              "      <td>4642.428943</td>\n",
              "    </tr>\n",
              "    <tr>\n",
              "      <th>3</th>\n",
              "      <td>3</td>\n",
              "      <td>3128.1624</td>\n",
              "      <td>87.745697</td>\n",
              "      <td>29.576700</td>\n",
              "      <td>0.2178</td>\n",
              "      <td>44.440498</td>\n",
              "      <td>2.2200</td>\n",
              "      <td>6.4939</td>\n",
              "      <td>108.128898</td>\n",
              "      <td>121.629501</td>\n",
              "      <td>0.0200</td>\n",
              "      <td>604.472290</td>\n",
              "      <td>0.2445</td>\n",
              "      <td>0.0818</td>\n",
              "      <td>0.1305</td>\n",
              "      <td>4643.317427</td>\n",
              "    </tr>\n",
              "    <tr>\n",
              "      <th>4</th>\n",
              "      <td>4</td>\n",
              "      <td>3128.3148</td>\n",
              "      <td>88.152100</td>\n",
              "      <td>30.052200</td>\n",
              "      <td>0.2190</td>\n",
              "      <td>46.683899</td>\n",
              "      <td>2.2200</td>\n",
              "      <td>6.5915</td>\n",
              "      <td>105.547302</td>\n",
              "      <td>118.194396</td>\n",
              "      <td>0.0203</td>\n",
              "      <td>554.666870</td>\n",
              "      <td>0.2450</td>\n",
              "      <td>0.0827</td>\n",
              "      <td>0.1351</td>\n",
              "      <td>4644.490611</td>\n",
              "    </tr>\n",
              "  </tbody>\n",
              "</table>\n",
              "</div>"
            ],
            "text/plain": [
              "   Unnamed: 0      DEPTH         DT         GR    NPHI         RD    RHOB  \\\n",
              "0           0  3127.7052  87.701897  28.952101  0.2170  38.960499  2.2082   \n",
              "1           1  3127.8576  87.051201  29.013000  0.2168  40.557701  2.2143   \n",
              "2           2  3128.0100  87.711700  29.101200  0.2166  42.197201  2.2200   \n",
              "3           3  3128.1624  87.745697  29.576700  0.2178  44.440498  2.2200   \n",
              "4           4  3128.3148  88.152100  30.052200  0.2190  46.683899  2.2200   \n",
              "\n",
              "   ROP5_RM          RS          RT     BVW       KLOGH    PHIF      SW  \\\n",
              "0   6.3016   95.438400  130.219100  0.0195  733.528686  0.2483  0.0785   \n",
              "1   6.3473  103.421096  127.670898  0.0196  695.894897  0.2461  0.0797   \n",
              "2   6.3964  110.710601  125.064598  0.0197  658.749694  0.2441  0.0809   \n",
              "3   6.4939  108.128898  121.629501  0.0200  604.472290  0.2445  0.0818   \n",
              "4   6.5915  105.547302  118.194396  0.0203  554.666870  0.2450  0.0827   \n",
              "\n",
              "      VCL       pp_psi  \n",
              "0  0.1245  4641.506076  \n",
              "1  0.1251  4641.825160  \n",
              "2  0.1260  4642.428943  \n",
              "3  0.1305  4643.317427  \n",
              "4  0.1351  4644.490611  "
            ]
          },
          "execution_count": 3,
          "metadata": {},
          "output_type": "execute_result"
        }
      ],
      "source": [
        "df.head()"
      ]
    },
    {
      "cell_type": "code",
      "execution_count": 4,
      "metadata": {},
      "outputs": [
        {
          "data": {
            "text/plain": [
              "((1811, 14), (1811,))"
            ]
          },
          "execution_count": 4,
          "metadata": {},
          "output_type": "execute_result"
        }
      ],
      "source": [
        "# selecting features and label\n",
        "X = df.iloc[:, 1:-1]  # features\n",
        "y = df.iloc[:,-1]  # label\n",
        "X.shape, y.shape"
      ]
    },
    {
      "cell_type": "code",
      "execution_count": 5,
      "metadata": {},
      "outputs": [
        {
          "data": {
            "text/html": [
              "<div>\n",
              "<style scoped>\n",
              "    .dataframe tbody tr th:only-of-type {\n",
              "        vertical-align: middle;\n",
              "    }\n",
              "\n",
              "    .dataframe tbody tr th {\n",
              "        vertical-align: top;\n",
              "    }\n",
              "\n",
              "    .dataframe thead th {\n",
              "        text-align: right;\n",
              "    }\n",
              "</style>\n",
              "<table border=\"1\" class=\"dataframe\">\n",
              "  <thead>\n",
              "    <tr style=\"text-align: right;\">\n",
              "      <th></th>\n",
              "      <th>DEPTH</th>\n",
              "      <th>DT</th>\n",
              "      <th>GR</th>\n",
              "      <th>NPHI</th>\n",
              "      <th>RD</th>\n",
              "      <th>RHOB</th>\n",
              "      <th>ROP5_RM</th>\n",
              "      <th>RS</th>\n",
              "      <th>RT</th>\n",
              "      <th>BVW</th>\n",
              "      <th>KLOGH</th>\n",
              "      <th>PHIF</th>\n",
              "      <th>SW</th>\n",
              "      <th>VCL</th>\n",
              "    </tr>\n",
              "  </thead>\n",
              "  <tbody>\n",
              "    <tr>\n",
              "      <th>0</th>\n",
              "      <td>3127.7052</td>\n",
              "      <td>87.701897</td>\n",
              "      <td>28.952101</td>\n",
              "      <td>0.2170</td>\n",
              "      <td>38.960499</td>\n",
              "      <td>2.2082</td>\n",
              "      <td>6.3016</td>\n",
              "      <td>95.438400</td>\n",
              "      <td>130.219100</td>\n",
              "      <td>0.0195</td>\n",
              "      <td>733.528686</td>\n",
              "      <td>0.2483</td>\n",
              "      <td>0.0785</td>\n",
              "      <td>0.1245</td>\n",
              "    </tr>\n",
              "    <tr>\n",
              "      <th>1</th>\n",
              "      <td>3127.8576</td>\n",
              "      <td>87.051201</td>\n",
              "      <td>29.013000</td>\n",
              "      <td>0.2168</td>\n",
              "      <td>40.557701</td>\n",
              "      <td>2.2143</td>\n",
              "      <td>6.3473</td>\n",
              "      <td>103.421096</td>\n",
              "      <td>127.670898</td>\n",
              "      <td>0.0196</td>\n",
              "      <td>695.894897</td>\n",
              "      <td>0.2461</td>\n",
              "      <td>0.0797</td>\n",
              "      <td>0.1251</td>\n",
              "    </tr>\n",
              "    <tr>\n",
              "      <th>2</th>\n",
              "      <td>3128.0100</td>\n",
              "      <td>87.711700</td>\n",
              "      <td>29.101200</td>\n",
              "      <td>0.2166</td>\n",
              "      <td>42.197201</td>\n",
              "      <td>2.2200</td>\n",
              "      <td>6.3964</td>\n",
              "      <td>110.710601</td>\n",
              "      <td>125.064598</td>\n",
              "      <td>0.0197</td>\n",
              "      <td>658.749694</td>\n",
              "      <td>0.2441</td>\n",
              "      <td>0.0809</td>\n",
              "      <td>0.1260</td>\n",
              "    </tr>\n",
              "    <tr>\n",
              "      <th>3</th>\n",
              "      <td>3128.1624</td>\n",
              "      <td>87.745697</td>\n",
              "      <td>29.576700</td>\n",
              "      <td>0.2178</td>\n",
              "      <td>44.440498</td>\n",
              "      <td>2.2200</td>\n",
              "      <td>6.4939</td>\n",
              "      <td>108.128898</td>\n",
              "      <td>121.629501</td>\n",
              "      <td>0.0200</td>\n",
              "      <td>604.472290</td>\n",
              "      <td>0.2445</td>\n",
              "      <td>0.0818</td>\n",
              "      <td>0.1305</td>\n",
              "    </tr>\n",
              "    <tr>\n",
              "      <th>4</th>\n",
              "      <td>3128.3148</td>\n",
              "      <td>88.152100</td>\n",
              "      <td>30.052200</td>\n",
              "      <td>0.2190</td>\n",
              "      <td>46.683899</td>\n",
              "      <td>2.2200</td>\n",
              "      <td>6.5915</td>\n",
              "      <td>105.547302</td>\n",
              "      <td>118.194396</td>\n",
              "      <td>0.0203</td>\n",
              "      <td>554.666870</td>\n",
              "      <td>0.2450</td>\n",
              "      <td>0.0827</td>\n",
              "      <td>0.1351</td>\n",
              "    </tr>\n",
              "  </tbody>\n",
              "</table>\n",
              "</div>"
            ],
            "text/plain": [
              "       DEPTH         DT         GR    NPHI         RD    RHOB  ROP5_RM  \\\n",
              "0  3127.7052  87.701897  28.952101  0.2170  38.960499  2.2082   6.3016   \n",
              "1  3127.8576  87.051201  29.013000  0.2168  40.557701  2.2143   6.3473   \n",
              "2  3128.0100  87.711700  29.101200  0.2166  42.197201  2.2200   6.3964   \n",
              "3  3128.1624  87.745697  29.576700  0.2178  44.440498  2.2200   6.4939   \n",
              "4  3128.3148  88.152100  30.052200  0.2190  46.683899  2.2200   6.5915   \n",
              "\n",
              "           RS          RT     BVW       KLOGH    PHIF      SW     VCL  \n",
              "0   95.438400  130.219100  0.0195  733.528686  0.2483  0.0785  0.1245  \n",
              "1  103.421096  127.670898  0.0196  695.894897  0.2461  0.0797  0.1251  \n",
              "2  110.710601  125.064598  0.0197  658.749694  0.2441  0.0809  0.1260  \n",
              "3  108.128898  121.629501  0.0200  604.472290  0.2445  0.0818  0.1305  \n",
              "4  105.547302  118.194396  0.0203  554.666870  0.2450  0.0827  0.1351  "
            ]
          },
          "execution_count": 5,
          "metadata": {},
          "output_type": "execute_result"
        }
      ],
      "source": [
        "X.head()"
      ]
    },
    {
      "cell_type": "code",
      "execution_count": 6,
      "metadata": {
        "id": "zU1EVlOMqorH"
      },
      "outputs": [],
      "source": [
        "from sklearn.model_selection import train_test_split\n",
        "from sklearn.preprocessing import StandardScaler\n",
        "\n",
        "\n",
        "X_train, X_test, y_train, y_test = train_test_split(X, y, test_size=0.3, random_state=2)\n",
        "\n",
        "scaler = StandardScaler()\n",
        "X_train_scaled = scaler.fit_transform(X_train)\n",
        "X_test_scaled = scaler.transform(X_test)"
      ]
    },
    {
      "cell_type": "code",
      "execution_count": 7,
      "metadata": {},
      "outputs": [],
      "source": [
        "from sklearn.metrics import mean_squared_error\n",
        "from sklearn.metrics import r2_score\n",
        "import numpy as np"
      ]
    },
    {
      "cell_type": "code",
      "execution_count": 8,
      "metadata": {
        "id": "KG1F5sYaV-XZ"
      },
      "outputs": [],
      "source": [
        "from sklearn.model_selection import GridSearchCV\n",
        "from sklearn.model_selection import RandomizedSearchCV"
      ]
    },
    {
      "cell_type": "code",
      "execution_count": 9,
      "metadata": {},
      "outputs": [],
      "source": [
        "def convert(seconds):\n",
        "    seconds = seconds % (24 * 3600)\n",
        "    hour = seconds // 3600\n",
        "    seconds %= 3600\n",
        "    minutes = seconds // 60\n",
        "    seconds %= 60\n",
        "    return \"%d:%02d:%02d\" % (hour, minutes, seconds)"
      ]
    },
    {
      "cell_type": "markdown",
      "metadata": {},
      "source": [
        "max_iter:int, default=200"
      ]
    },
    {
      "cell_type": "code",
      "execution_count": 10,
      "metadata": {},
      "outputs": [],
      "source": [
        "from sklearn.neural_network import MLPRegressor\n",
        "from sklearn.model_selection import RandomizedSearchCV\n",
        "from sklearn.model_selection import train_test_split\n",
        "from sklearn.metrics import mean_squared_error, r2_score\n",
        "import time\n"
      ]
    },
    {
      "cell_type": "code",
      "execution_count": 11,
      "metadata": {},
      "outputs": [],
      "source": [
        "from sklearn.decomposition import PCA"
      ]
    },
    {
      "cell_type": "code",
      "execution_count": 12,
      "metadata": {},
      "outputs": [],
      "source": [
        "from sklearn.decomposition import PCA\n",
        "pca = PCA(n_components=10)\n",
        "X_train_pca = pca.fit_transform(X_train_scaled)\n",
        "X_test_pca = pca.transform(X_test_scaled)\n"
      ]
    },
    {
      "cell_type": "code",
      "execution_count": 13,
      "metadata": {},
      "outputs": [
        {
          "name": "stdout",
          "output_type": "stream",
          "text": [
            "Fitting 5 folds for each of 12 candidates, totalling 60 fits\n",
            "[CV] END activation=relu, alpha=0.0001, hidden_layer_sizes=(50, 30, 10, 5), max_iter=2000, solver=adam; total time=  22.4s\n",
            "[CV] END activation=relu, alpha=0.0001, hidden_layer_sizes=(50, 30, 10, 5), max_iter=2000, solver=adam; total time=  24.0s\n",
            "[CV] END activation=relu, alpha=0.0001, hidden_layer_sizes=(50, 30, 10, 5), max_iter=2000, solver=adam; total time=  24.1s\n",
            "[CV] END activation=relu, alpha=0.0001, hidden_layer_sizes=(50, 30, 10, 5), max_iter=2000, solver=adam; total time=  21.0s\n",
            "[CV] END activation=relu, alpha=0.0001, hidden_layer_sizes=(50, 30, 10, 5), max_iter=2000, solver=adam; total time=  15.4s\n",
            "[CV] END activation=relu, alpha=0.0001, hidden_layer_sizes=(50, 30, 10, 5), max_iter=4000, solver=adam; total time=  19.4s\n",
            "[CV] END activation=relu, alpha=0.0001, hidden_layer_sizes=(50, 30, 10, 5), max_iter=4000, solver=adam; total time=  23.8s\n",
            "[CV] END activation=relu, alpha=0.0001, hidden_layer_sizes=(50, 30, 10, 5), max_iter=4000, solver=adam; total time=  27.2s\n",
            "[CV] END activation=relu, alpha=0.0001, hidden_layer_sizes=(50, 30, 10, 5), max_iter=4000, solver=adam; total time=  19.2s\n",
            "[CV] END activation=relu, alpha=0.0001, hidden_layer_sizes=(50, 30, 10, 5), max_iter=4000, solver=adam; total time=  17.8s\n",
            "[CV] END activation=relu, alpha=0.0001, hidden_layer_sizes=(50, 30, 10, 5), max_iter=6000, solver=adam; total time=  25.3s\n",
            "[CV] END activation=relu, alpha=0.0001, hidden_layer_sizes=(50, 30, 10, 5), max_iter=6000, solver=adam; total time=  24.3s\n",
            "[CV] END activation=relu, alpha=0.0001, hidden_layer_sizes=(50, 30, 10, 5), max_iter=6000, solver=adam; total time=  24.4s\n",
            "[CV] END activation=relu, alpha=0.0001, hidden_layer_sizes=(50, 30, 10, 5), max_iter=6000, solver=adam; total time=  20.4s\n",
            "[CV] END activation=relu, alpha=0.0001, hidden_layer_sizes=(50, 30, 10, 5), max_iter=6000, solver=adam; total time=  17.9s\n",
            "[CV] END activation=relu, alpha=0.0001, hidden_layer_sizes=(50, 30, 10, 5), max_iter=8000, solver=adam; total time=  24.7s\n",
            "[CV] END activation=relu, alpha=0.0001, hidden_layer_sizes=(50, 30, 10, 5), max_iter=8000, solver=adam; total time=  28.5s\n",
            "[CV] END activation=relu, alpha=0.0001, hidden_layer_sizes=(50, 30, 10, 5), max_iter=8000, solver=adam; total time=  38.6s\n",
            "[CV] END activation=relu, alpha=0.0001, hidden_layer_sizes=(50, 30, 10, 5), max_iter=8000, solver=adam; total time=  22.5s\n",
            "[CV] END activation=relu, alpha=0.0001, hidden_layer_sizes=(50, 30, 10, 5), max_iter=8000, solver=adam; total time=  23.5s\n",
            "[CV] END activation=relu, alpha=0.0001, hidden_layer_sizes=(100, 60, 20, 10), max_iter=2000, solver=adam; total time=  21.3s\n",
            "[CV] END activation=relu, alpha=0.0001, hidden_layer_sizes=(100, 60, 20, 10), max_iter=2000, solver=adam; total time=  17.3s\n",
            "[CV] END activation=relu, alpha=0.0001, hidden_layer_sizes=(100, 60, 20, 10), max_iter=2000, solver=adam; total time=  15.9s\n",
            "[CV] END activation=relu, alpha=0.0001, hidden_layer_sizes=(100, 60, 20, 10), max_iter=2000, solver=adam; total time=  14.6s\n",
            "[CV] END activation=relu, alpha=0.0001, hidden_layer_sizes=(100, 60, 20, 10), max_iter=2000, solver=adam; total time=  13.3s\n",
            "[CV] END activation=relu, alpha=0.0001, hidden_layer_sizes=(100, 60, 20, 10), max_iter=4000, solver=adam; total time=  16.8s\n",
            "[CV] END activation=relu, alpha=0.0001, hidden_layer_sizes=(100, 60, 20, 10), max_iter=4000, solver=adam; total time=  21.6s\n",
            "[CV] END activation=relu, alpha=0.0001, hidden_layer_sizes=(100, 60, 20, 10), max_iter=4000, solver=adam; total time=  19.9s\n",
            "[CV] END activation=relu, alpha=0.0001, hidden_layer_sizes=(100, 60, 20, 10), max_iter=4000, solver=adam; total time=  16.8s\n",
            "[CV] END activation=relu, alpha=0.0001, hidden_layer_sizes=(100, 60, 20, 10), max_iter=4000, solver=adam; total time=  12.2s\n",
            "[CV] END activation=relu, alpha=0.0001, hidden_layer_sizes=(100, 60, 20, 10), max_iter=6000, solver=adam; total time=  16.7s\n",
            "[CV] END activation=relu, alpha=0.0001, hidden_layer_sizes=(100, 60, 20, 10), max_iter=6000, solver=adam; total time=  17.3s\n",
            "[CV] END activation=relu, alpha=0.0001, hidden_layer_sizes=(100, 60, 20, 10), max_iter=6000, solver=adam; total time=  16.1s\n",
            "[CV] END activation=relu, alpha=0.0001, hidden_layer_sizes=(100, 60, 20, 10), max_iter=6000, solver=adam; total time=  14.5s\n",
            "[CV] END activation=relu, alpha=0.0001, hidden_layer_sizes=(100, 60, 20, 10), max_iter=6000, solver=adam; total time=  28.4s\n",
            "[CV] END activation=relu, alpha=0.0001, hidden_layer_sizes=(100, 60, 20, 10), max_iter=8000, solver=adam; total time=  23.6s\n",
            "[CV] END activation=relu, alpha=0.0001, hidden_layer_sizes=(100, 60, 20, 10), max_iter=8000, solver=adam; total time=  26.7s\n",
            "[CV] END activation=relu, alpha=0.0001, hidden_layer_sizes=(100, 60, 20, 10), max_iter=8000, solver=adam; total time=  19.6s\n",
            "[CV] END activation=relu, alpha=0.0001, hidden_layer_sizes=(100, 60, 20, 10), max_iter=8000, solver=adam; total time=  23.4s\n",
            "[CV] END activation=relu, alpha=0.0001, hidden_layer_sizes=(100, 60, 20, 10), max_iter=8000, solver=adam; total time=  22.3s\n",
            "[CV] END activation=relu, alpha=0.0001, hidden_layer_sizes=(70, 40, 10), max_iter=2000, solver=adam; total time=  23.0s\n",
            "[CV] END activation=relu, alpha=0.0001, hidden_layer_sizes=(70, 40, 10), max_iter=2000, solver=adam; total time=  14.9s\n",
            "[CV] END activation=relu, alpha=0.0001, hidden_layer_sizes=(70, 40, 10), max_iter=2000, solver=adam; total time=  17.0s\n",
            "[CV] END activation=relu, alpha=0.0001, hidden_layer_sizes=(70, 40, 10), max_iter=2000, solver=adam; total time=  17.9s\n",
            "[CV] END activation=relu, alpha=0.0001, hidden_layer_sizes=(70, 40, 10), max_iter=2000, solver=adam; total time=  16.6s\n",
            "[CV] END activation=relu, alpha=0.0001, hidden_layer_sizes=(70, 40, 10), max_iter=4000, solver=adam; total time=  17.9s\n",
            "[CV] END activation=relu, alpha=0.0001, hidden_layer_sizes=(70, 40, 10), max_iter=4000, solver=adam; total time=  15.1s\n",
            "[CV] END activation=relu, alpha=0.0001, hidden_layer_sizes=(70, 40, 10), max_iter=4000, solver=adam; total time=  17.9s\n",
            "[CV] END activation=relu, alpha=0.0001, hidden_layer_sizes=(70, 40, 10), max_iter=4000, solver=adam; total time=  19.9s\n",
            "[CV] END activation=relu, alpha=0.0001, hidden_layer_sizes=(70, 40, 10), max_iter=4000, solver=adam; total time=  18.1s\n",
            "[CV] END activation=relu, alpha=0.0001, hidden_layer_sizes=(70, 40, 10), max_iter=6000, solver=adam; total time=  22.0s\n",
            "[CV] END activation=relu, alpha=0.0001, hidden_layer_sizes=(70, 40, 10), max_iter=6000, solver=adam; total time=  17.7s\n",
            "[CV] END activation=relu, alpha=0.0001, hidden_layer_sizes=(70, 40, 10), max_iter=6000, solver=adam; total time=  17.8s\n",
            "[CV] END activation=relu, alpha=0.0001, hidden_layer_sizes=(70, 40, 10), max_iter=6000, solver=adam; total time=  24.1s\n",
            "[CV] END activation=relu, alpha=0.0001, hidden_layer_sizes=(70, 40, 10), max_iter=6000, solver=adam; total time=  17.6s\n",
            "[CV] END activation=relu, alpha=0.0001, hidden_layer_sizes=(70, 40, 10), max_iter=8000, solver=adam; total time=  21.2s\n",
            "[CV] END activation=relu, alpha=0.0001, hidden_layer_sizes=(70, 40, 10), max_iter=8000, solver=adam; total time=  16.2s\n",
            "[CV] END activation=relu, alpha=0.0001, hidden_layer_sizes=(70, 40, 10), max_iter=8000, solver=adam; total time=  18.3s\n",
            "[CV] END activation=relu, alpha=0.0001, hidden_layer_sizes=(70, 40, 10), max_iter=8000, solver=adam; total time=  22.4s\n",
            "[CV] END activation=relu, alpha=0.0001, hidden_layer_sizes=(70, 40, 10), max_iter=8000, solver=adam; total time=  23.8s\n",
            "run_time: 1254.58 seconds\n"
          ]
        }
      ],
      "source": [
        "from sklearn.neural_network import MLPRegressor\n",
        "from sklearn.model_selection import GridSearchCV\n",
        "from sklearn.model_selection import train_test_split\n",
        "from sklearn.metrics import mean_squared_error, r2_score\n",
        "import time\n",
        "\n",
        "\n",
        "mlp_regr = GridSearchCV(\n",
        "    MLPRegressor(random_state=2),\n",
        "    param_grid = {\n",
        "    'max_iter':[2000,4000,6000,8000,\n",
        "                ],\n",
        "    'hidden_layer_sizes': [(50,30,10,5),(100,60,20,10),(70,40,10),],\n",
        "    'activation': ['relu',],\n",
        "    'solver': ['adam',],\n",
        "    'alpha':[0.0001,],},\n",
        "    cv=5,\n",
        "    scoring=['neg_mean_squared_error', 'r2'],\n",
        "    refit='r2',\n",
        "    verbose=2,\n",
        ")\n",
        "\n",
        "start = time.time()\n",
        "\n",
        "mlp_regr.fit(X_train_pca, y_train.ravel())\n",
        "\n",
        "end = time.time()\n",
        "\n",
        "print('run_time:', \"{:.2f}\".format(end - start), 'seconds')"
      ]
    },
    {
      "cell_type": "code",
      "execution_count": 14,
      "metadata": {},
      "outputs": [
        {
          "name": "stdout",
          "output_type": "stream",
          "text": [
            "  activation   alpha hidden_layer_sizes  max_iter solver\n",
            "0       relu  0.0001       (70, 40, 10)      2000   adam\n"
          ]
        }
      ],
      "source": [
        "\n",
        "best_parameters = pd.DataFrame([mlp_regr.best_params_])\n",
        "\n",
        "# Save the results to an Excel file\n",
        "#best_parameters.to_excel('./output/mlp_regressor/best_parameters_mlp_RCV.xlsx', index=True)\n",
        "\n",
        "# Display the results\n",
        "print(best_parameters)"
      ]
    },
    {
      "cell_type": "code",
      "execution_count": 15,
      "metadata": {},
      "outputs": [],
      "source": [
        "import os\n",
        "\n",
        "# Create the output/cnn directory if it doesn't exist\n",
        "output_dir = \"./output/NEW_mlp_regressor_pca_10\"\n",
        "os.makedirs(output_dir, exist_ok=True)"
      ]
    },
    {
      "cell_type": "code",
      "execution_count": 16,
      "metadata": {},
      "outputs": [
        {
          "data": {
            "text/plain": [
              "{'activation': 'relu',\n",
              " 'alpha': 0.0001,\n",
              " 'hidden_layer_sizes': (70, 40, 10),\n",
              " 'max_iter': 2000,\n",
              " 'solver': 'adam'}"
            ]
          },
          "execution_count": 16,
          "metadata": {},
          "output_type": "execute_result"
        }
      ],
      "source": [
        "mlp_regr.best_params_"
      ]
    },
    {
      "cell_type": "code",
      "execution_count": 17,
      "metadata": {},
      "outputs": [],
      "source": [
        "pred_1 = mlp_regr.predict(X_train_pca) # prediction for training set\n",
        "pred_2 = mlp_regr.predict(X_test_pca)"
      ]
    },
    {
      "cell_type": "code",
      "execution_count": 18,
      "metadata": {},
      "outputs": [
        {
          "data": {
            "text/html": [
              "<div>\n",
              "<style scoped>\n",
              "    .dataframe tbody tr th:only-of-type {\n",
              "        vertical-align: middle;\n",
              "    }\n",
              "\n",
              "    .dataframe tbody tr th {\n",
              "        vertical-align: top;\n",
              "    }\n",
              "\n",
              "    .dataframe thead th {\n",
              "        text-align: right;\n",
              "    }\n",
              "</style>\n",
              "<table border=\"1\" class=\"dataframe\">\n",
              "  <thead>\n",
              "    <tr style=\"text-align: right;\">\n",
              "      <th></th>\n",
              "      <th>0</th>\n",
              "      <th>1</th>\n",
              "      <th>2</th>\n",
              "      <th>3</th>\n",
              "      <th>4</th>\n",
              "      <th>5</th>\n",
              "    </tr>\n",
              "  </thead>\n",
              "  <tbody>\n",
              "    <tr>\n",
              "      <th>performance_metrics</th>\n",
              "      <td>R2</td>\n",
              "      <td>MAE</td>\n",
              "      <td>MSE</td>\n",
              "      <td>MAPE</td>\n",
              "      <td>maxE</td>\n",
              "      <td>minE</td>\n",
              "    </tr>\n",
              "    <tr>\n",
              "      <th>training</th>\n",
              "      <td>0.970702</td>\n",
              "      <td>22.495722</td>\n",
              "      <td>972.248416</td>\n",
              "      <td>0.004702</td>\n",
              "      <td>226.80575</td>\n",
              "      <td>0.016595</td>\n",
              "    </tr>\n",
              "    <tr>\n",
              "      <th>testing</th>\n",
              "      <td>0.935026</td>\n",
              "      <td>30.742288</td>\n",
              "      <td>2184.54745</td>\n",
              "      <td>0.006408</td>\n",
              "      <td>371.728498</td>\n",
              "      <td>0.015231</td>\n",
              "    </tr>\n",
              "  </tbody>\n",
              "</table>\n",
              "</div>"
            ],
            "text/plain": [
              "                            0          1           2         3           4  \\\n",
              "performance_metrics        R2        MAE         MSE      MAPE        maxE   \n",
              "training             0.970702  22.495722  972.248416  0.004702   226.80575   \n",
              "testing              0.935026  30.742288  2184.54745  0.006408  371.728498   \n",
              "\n",
              "                            5  \n",
              "performance_metrics      minE  \n",
              "training             0.016595  \n",
              "testing              0.015231  "
            ]
          },
          "execution_count": 18,
          "metadata": {},
          "output_type": "execute_result"
        }
      ],
      "source": [
        "from sklearn.metrics import r2_score\n",
        "from sklearn.metrics import mean_absolute_error\n",
        "from sklearn.metrics import mean_squared_error\n",
        "from sklearn.metrics import mean_absolute_percentage_error\n",
        "from sklearn.metrics import max_error\n",
        "\n",
        "train_r2 = r2_score(y_train,pred_1) # r2_score for training set\n",
        "train_mae = mean_absolute_error(y_train, pred_1) # mean absolute error for training set\n",
        "train_mse = mean_squared_error(y_train, pred_1) # mean squared error for training set\n",
        "train_mape = mean_absolute_percentage_error(y_train, pred_1) # mean_absolute_percentage_error for training set \n",
        "train_maxE = max_error(y_train, pred_1)\n",
        "train_minE = min(abs(y_train - pred_1))\n",
        "\n",
        "test_r2 = r2_score(y_test, pred_2) # r2_score for testing set\n",
        "test_mae = mean_absolute_error(y_test, pred_2) # mean absolute error for testing set\n",
        "test_mse = mean_squared_error(y_test, pred_2) # mean squared error for testing set\n",
        "test_mape = mean_absolute_percentage_error(y_test, pred_2) # mean_absolute_percentage_error for testing set\n",
        "\n",
        "test_maxE = max_error(y_test, pred_2)\n",
        "test_minE = min(abs(y_test - pred_2))\n",
        "\n",
        "\n",
        "metrics = {\n",
        "'performance_metrics': ['R2', 'MAE', 'MSE', 'MAPE', 'maxE', 'minE'],\n",
        "'training': [train_r2, train_mae, train_mse,train_mape,train_maxE, train_minE],\n",
        "'testing': [test_r2, test_mae, test_mse,test_mape, test_maxE, test_minE]\n",
        "}\n",
        "\n",
        "performance_metrics = pd.DataFrame(metrics)\n",
        "performance = performance_metrics.transpose()\n",
        "performance.to_csv('./output/NEW_mlp_regressor_pca_10/performance_result_metrices_GCV.csv')\n",
        "performance"
      ]
    },
    {
      "cell_type": "code",
      "execution_count": 19,
      "metadata": {},
      "outputs": [
        {
          "data": {
            "text/html": [
              "<div>\n",
              "<style scoped>\n",
              "    .dataframe tbody tr th:only-of-type {\n",
              "        vertical-align: middle;\n",
              "    }\n",
              "\n",
              "    .dataframe tbody tr th {\n",
              "        vertical-align: top;\n",
              "    }\n",
              "\n",
              "    .dataframe thead th {\n",
              "        text-align: right;\n",
              "    }\n",
              "</style>\n",
              "<table border=\"1\" class=\"dataframe\">\n",
              "  <thead>\n",
              "    <tr style=\"text-align: right;\">\n",
              "      <th></th>\n",
              "      <th>0</th>\n",
              "      <th>1</th>\n",
              "      <th>2</th>\n",
              "      <th>3</th>\n",
              "      <th>4</th>\n",
              "      <th>5</th>\n",
              "    </tr>\n",
              "  </thead>\n",
              "  <tbody>\n",
              "    <tr>\n",
              "      <th>performance_metrics</th>\n",
              "      <td>R2</td>\n",
              "      <td>MAE</td>\n",
              "      <td>MSE</td>\n",
              "      <td>MAPE</td>\n",
              "      <td>maxE</td>\n",
              "      <td>minE</td>\n",
              "    </tr>\n",
              "    <tr>\n",
              "      <th>training</th>\n",
              "      <td>0.970702</td>\n",
              "      <td>22.495722</td>\n",
              "      <td>972.248416</td>\n",
              "      <td>0.004702</td>\n",
              "      <td>226.80575</td>\n",
              "      <td>0.016595</td>\n",
              "    </tr>\n",
              "    <tr>\n",
              "      <th>testing</th>\n",
              "      <td>0.935026</td>\n",
              "      <td>30.742288</td>\n",
              "      <td>2184.54745</td>\n",
              "      <td>0.006408</td>\n",
              "      <td>371.728498</td>\n",
              "      <td>0.015231</td>\n",
              "    </tr>\n",
              "  </tbody>\n",
              "</table>\n",
              "</div>"
            ],
            "text/plain": [
              "                            0          1           2         3           4  \\\n",
              "performance_metrics        R2        MAE         MSE      MAPE        maxE   \n",
              "training             0.970702  22.495722  972.248416  0.004702   226.80575   \n",
              "testing              0.935026  30.742288  2184.54745  0.006408  371.728498   \n",
              "\n",
              "                            5  \n",
              "performance_metrics      minE  \n",
              "training             0.016595  \n",
              "testing              0.015231  "
            ]
          },
          "execution_count": 19,
          "metadata": {},
          "output_type": "execute_result"
        }
      ],
      "source": [
        "performance"
      ]
    },
    {
      "cell_type": "code",
      "execution_count": 20,
      "metadata": {},
      "outputs": [],
      "source": [
        "a = np.stack([y_train, pred_1], axis=1) # training\n",
        "a = pd.DataFrame(a, columns=['y_train', 'y_train_pred'])\n",
        "\n",
        "b = np.stack([y_test, pred_2], axis=1) # testing \n",
        "b = pd.DataFrame(b, columns=['y_test', 'y_test_pred'])\n",
        "\n",
        "with pd.ExcelWriter(\"./output/NEW_mlp_regressor_pca_10/predicted_mlp_model_GCV.xlsx\") as writer:\n",
        "    # use to_excel function and specify the sheet_name and index\n",
        "    # to store the dataframe in specified sheet\n",
        "    a.to_excel(writer, sheet_name=\"training\", index=True)\n",
        "    b.to_excel(writer, sheet_name=\"testing\", index=True)"
      ]
    },
    {
      "cell_type": "code",
      "execution_count": 21,
      "metadata": {},
      "outputs": [],
      "source": [
        "df = pd.DataFrame((mlp_regr).cv_results_)\n",
        "# getting all parameter combinations and their performance result\n",
        "result = df[['param_hidden_layer_sizes','param_solver',\n",
        "            'mean_test_r2', 'mean_test_neg_mean_squared_error']]\n",
        "result.to_csv('./output/NEW_mlp_regressor_pca_10/performance_result_for_mlp_regressor_gCV.csv')\n"
      ]
    },
    {
      "cell_type": "code",
      "execution_count": 22,
      "metadata": {},
      "outputs": [
        {
          "name": "stdout",
          "output_type": "stream",
          "text": [
            "{'activation': 'relu', 'alpha': 0.0001, 'hidden_layer_sizes': (70, 40, 10), 'max_iter': 2000, 'solver': 'adam'}\n",
            "0.8649122190622986\n"
          ]
        }
      ],
      "source": [
        "print(mlp_regr.best_params_)\n",
        "\n",
        "# the best performing score\n",
        "print(mlp_regr.best_score_)"
      ]
    },
    {
      "cell_type": "code",
      "execution_count": 23,
      "metadata": {},
      "outputs": [
        {
          "name": "stdout",
          "output_type": "stream",
          "text": [
            "  activation   alpha hidden_layer_sizes  max_iter solver\n",
            "0       relu  0.0001       (70, 40, 10)      2000   adam\n"
          ]
        }
      ],
      "source": [
        "\n",
        "best_parameters = pd.DataFrame([mlp_regr.best_params_])\n",
        "\n",
        "# Save the results to an Excel file\n",
        "best_parameters.to_excel('./output/NEW_mlp_regressor_pca_10/best_parameters_mlp_GCV.xlsx', index=True)\n",
        "\n",
        "# Display the results\n",
        "print(best_parameters)"
      ]
    },
    {
      "cell_type": "code",
      "execution_count": 24,
      "metadata": {},
      "outputs": [
        {
          "data": {
            "text/html": [
              "<div>\n",
              "<style scoped>\n",
              "    .dataframe tbody tr th:only-of-type {\n",
              "        vertical-align: middle;\n",
              "    }\n",
              "\n",
              "    .dataframe tbody tr th {\n",
              "        vertical-align: top;\n",
              "    }\n",
              "\n",
              "    .dataframe thead th {\n",
              "        text-align: right;\n",
              "    }\n",
              "</style>\n",
              "<table border=\"1\" class=\"dataframe\">\n",
              "  <thead>\n",
              "    <tr style=\"text-align: right;\">\n",
              "      <th></th>\n",
              "      <th>0</th>\n",
              "      <th>1</th>\n",
              "      <th>2</th>\n",
              "      <th>3</th>\n",
              "      <th>4</th>\n",
              "      <th>5</th>\n",
              "    </tr>\n",
              "  </thead>\n",
              "  <tbody>\n",
              "    <tr>\n",
              "      <th>performance_metrics</th>\n",
              "      <td>R2</td>\n",
              "      <td>MAE</td>\n",
              "      <td>MSE</td>\n",
              "      <td>MAPE</td>\n",
              "      <td>maxE</td>\n",
              "      <td>minE</td>\n",
              "    </tr>\n",
              "    <tr>\n",
              "      <th>training</th>\n",
              "      <td>0.970702</td>\n",
              "      <td>22.495722</td>\n",
              "      <td>972.248416</td>\n",
              "      <td>0.004702</td>\n",
              "      <td>226.80575</td>\n",
              "      <td>0.016595</td>\n",
              "    </tr>\n",
              "    <tr>\n",
              "      <th>testing</th>\n",
              "      <td>0.935026</td>\n",
              "      <td>30.742288</td>\n",
              "      <td>2184.54745</td>\n",
              "      <td>0.006408</td>\n",
              "      <td>371.728498</td>\n",
              "      <td>0.015231</td>\n",
              "    </tr>\n",
              "  </tbody>\n",
              "</table>\n",
              "</div>"
            ],
            "text/plain": [
              "                            0          1           2         3           4  \\\n",
              "performance_metrics        R2        MAE         MSE      MAPE        maxE   \n",
              "training             0.970702  22.495722  972.248416  0.004702   226.80575   \n",
              "testing              0.935026  30.742288  2184.54745  0.006408  371.728498   \n",
              "\n",
              "                            5  \n",
              "performance_metrics      minE  \n",
              "training             0.016595  \n",
              "testing              0.015231  "
            ]
          },
          "execution_count": 24,
          "metadata": {},
          "output_type": "execute_result"
        }
      ],
      "source": [
        "performance"
      ]
    },
    {
      "cell_type": "code",
      "execution_count": 25,
      "metadata": {},
      "outputs": [
        {
          "data": {
            "image/png": "[encoded data removed]",
            "text/plain": [
              "<Figure size 600x600 with 1 Axes>"
            ]
          },
          "metadata": {},
          "output_type": "display_data"
        }
      ],
      "source": [
        "import matplotlib.pyplot as plt\n",
        "from sklearn.metrics import r2_score\n",
        "\n",
        "# Set the default font family for the entire plot\n",
        "plt.rcParams['font.family'] = 'serif'  # Change 'serif' to the desired font name\n",
        "\n",
        "train_residuals = y_train - pred_1\n",
        "test_residuals = y_test - pred_2\n",
        "\n",
        "fig, ax = plt.subplots(figsize=(6, 6))\n",
        "\n",
        "# Scatter plot for training residuals with outline marker\n",
        "ax.scatter(pred_1, train_residuals, c='tab:blue', label=f'Train Residuals (R^2 = {train_r2:.4f})', marker=\"^\", edgecolors='tab:blue', facecolors='none')\n",
        "\n",
        "# Scatter plot for test residuals with outline marker\n",
        "ax.scatter(pred_2, test_residuals, c='tab:red', label=f'Test Residuals (R^2 = {test_r2:.4f})', marker='o', edgecolors='tab:red', facecolors='none')\n",
        "\n",
        "# Horizontal line at y=0\n",
        "ax.axhline(y=0, color='black', linestyle='--', linewidth=2)\n",
        "\n",
        "# Set larger font sizes for x and y labels\n",
        "ax.set_xlabel('Predicted Values', fontsize=15, labelpad=5)  # Adjust labelpad as needed\n",
        "ax.set_ylabel('Residuals', fontsize=15)\n",
        "\n",
        "ax.set_title('Multilayer Perceptron(MLP)', fontsize=15)\n",
        "\n",
        "ax.grid(True)\n",
        "\n",
        "# Set legend font size\n",
        "ax.legend(fontsize=15)\n",
        "\n",
        "\n",
        "ax.tick_params(axis='both', which='both', length=0)\n",
        "\n",
        "\n",
        "plt.savefig('./output/NEW_mlp_regressor_pca_10/residual_plot.png', dpi=300)\n",
        "plt.tight_layout()\n"
      ]
    },
    {
      "cell_type": "code",
      "execution_count": 26,
      "metadata": {},
      "outputs": [
        {
          "data": {
            "text/plain": [
              "['./output/mlp_regressor_pca_4/trained_mlp_regressor.joblib']"
            ]
          },
          "execution_count": 26,
          "metadata": {},
          "output_type": "execute_result"
        }
      ],
      "source": [
        "#from sklearn.externals import joblib\n",
        "from joblib import dump, load\n",
        "dump(mlp_regr, './output/mlp_regressor_pca_4/trained_mlp_regressor.joblib')\n"
      ]
    },
    {
      "cell_type": "code",
      "execution_count": null,
      "metadata": {},
      "outputs": [],
      "source": []
    }
  ],
  "metadata": {
    "colab": {
      "provenance": []
    },
    "kernelspec": {
      "display_name": "Python 3 (ipykernel)",
      "language": "python",
      "name": "python3"
    },
    "language_info": {
      "codemirror_mode": {
        "name": "ipython",
        "version": 3
      },
      "file_extension": ".py",
      "mimetype": "text/x-python",
      "name": "python",
      "nbconvert_exporter": "python",
      "pygments_lexer": "ipython3",
      "version": "3.11.4"
    }
  },
  "nbformat": 4,
  "nbformat_minor": 0
}
